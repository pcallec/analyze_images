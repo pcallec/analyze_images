{
 "cells": [
  {
   "cell_type": "code",
   "execution_count": 14,
   "metadata": {},
   "outputs": [],
   "source": [
    "from pathlib import Path\n",
    "import re\n",
    "import pandas as pd\n",
    "from collections import Counter\n",
    "from tqdm import tqdm\n",
    "import numpy as np\n",
    "from joblib import Parallel, delayed"
   ]
  },
  {
   "cell_type": "code",
   "execution_count": 4,
   "metadata": {},
   "outputs": [],
   "source": [
    "data_folder_path = Path(\"/home/pcallec/NACHOS/data/5_kidneys\")"
   ]
  },
  {
   "cell_type": "code",
   "execution_count": 6,
   "metadata": {},
   "outputs": [],
   "source": [
    "l_image_path = list(data_folder_path.rglob(\"*.png\"))"
   ]
  },
  {
   "cell_type": "code",
   "execution_count": 8,
   "metadata": {},
   "outputs": [
    {
     "data": {
      "text/plain": [
       "[PosixPath('/home/pcallec/NACHOS/data/5_kidneys/01/tumor_temp/9298_AJBH331-left_tumor.png'),\n",
       " PosixPath('/home/pcallec/NACHOS/data/5_kidneys/01/tumor_temp/3296_AJBH331-left_tumor.png'),\n",
       " PosixPath('/home/pcallec/NACHOS/data/5_kidneys/01/tumor_temp/9457_AJBH331-left_tumor.png'),\n",
       " PosixPath('/home/pcallec/NACHOS/data/5_kidneys/01/tumor_temp/1823_AJBH331-left_tumor.png'),\n",
       " PosixPath('/home/pcallec/NACHOS/data/5_kidneys/01/tumor_temp/3660_AJBH331-left_tumor.png')]"
      ]
     },
     "execution_count": 8,
     "metadata": {},
     "output_type": "execute_result"
    }
   ],
   "source": [
    "l_image_path[:5]"
   ]
  },
  {
   "cell_type": "code",
   "execution_count": 10,
   "metadata": {},
   "outputs": [
    {
     "data": {
      "text/plain": [
       "PosixPath('/home/pcallec/NACHOS/data/5_kidneys/01/tumor_temp/9298_AJBH331-left_tumor.png')"
      ]
     },
     "execution_count": 10,
     "metadata": {},
     "output_type": "execute_result"
    }
   ],
   "source": [
    "l_image_path[0]"
   ]
  },
  {
   "cell_type": "code",
   "execution_count": 11,
   "metadata": {},
   "outputs": [
    {
     "data": {
      "text/plain": [
       "'tumor'"
      ]
     },
     "execution_count": 11,
     "metadata": {},
     "output_type": "execute_result"
    }
   ],
   "source": [
    "l_image_path[0].stem.split(\"_\")[-1]"
   ]
  },
  {
   "cell_type": "code",
   "execution_count": 17,
   "metadata": {},
   "outputs": [
    {
     "name": "stderr",
     "output_type": "stream",
     "text": [
      "100%|██████████| 300000/300000 [00:03<00:00, 80763.05it/s] \n"
     ]
    }
   ],
   "source": [
    "def process_image_path(image_path: Path):\n",
    "    filename = image_path.name\n",
    "    filename_stem = image_path.stem\n",
    "    parts = filename_stem.split(\"_\")\n",
    "    fold_name = parts[-2]\n",
    "    category = parts[-1]\n",
    "    \n",
    "    return {\n",
    "        \"filename\": filename,\n",
    "        \"absolute_filepath\": image_path,\n",
    "        \"fold_name\": fold_name,\n",
    "        \"category\": category\n",
    "    }\n",
    "    \n",
    "# Run in parallel\n",
    "results = Parallel(n_jobs=-1)(\n",
    "    delayed(process_image_path)(image_path) for image_path in tqdm(l_image_path)\n",
    ")\n",
    "\n",
    "# Convert the list of dicts to a DataFrame\n",
    "df_data = pd.DataFrame(results)"
   ]
  },
  {
   "cell_type": "code",
   "execution_count": 18,
   "metadata": {},
   "outputs": [
    {
     "data": {
      "text/html": [
       "<div>\n",
       "<style scoped>\n",
       "    .dataframe tbody tr th:only-of-type {\n",
       "        vertical-align: middle;\n",
       "    }\n",
       "\n",
       "    .dataframe tbody tr th {\n",
       "        vertical-align: top;\n",
       "    }\n",
       "\n",
       "    .dataframe thead th {\n",
       "        text-align: right;\n",
       "    }\n",
       "</style>\n",
       "<table border=\"1\" class=\"dataframe\">\n",
       "  <thead>\n",
       "    <tr style=\"text-align: right;\">\n",
       "      <th></th>\n",
       "      <th>filename</th>\n",
       "      <th>absolute_filepath</th>\n",
       "      <th>fold_name</th>\n",
       "      <th>category</th>\n",
       "    </tr>\n",
       "  </thead>\n",
       "  <tbody>\n",
       "    <tr>\n",
       "      <th>0</th>\n",
       "      <td>9298_AJBH331-left_tumor.png</td>\n",
       "      <td>/home/pcallec/NACHOS/data/5_kidneys/01/tumor_t...</td>\n",
       "      <td>AJBH331-left</td>\n",
       "      <td>tumor</td>\n",
       "    </tr>\n",
       "    <tr>\n",
       "      <th>1</th>\n",
       "      <td>3296_AJBH331-left_tumor.png</td>\n",
       "      <td>/home/pcallec/NACHOS/data/5_kidneys/01/tumor_t...</td>\n",
       "      <td>AJBH331-left</td>\n",
       "      <td>tumor</td>\n",
       "    </tr>\n",
       "    <tr>\n",
       "      <th>2</th>\n",
       "      <td>9457_AJBH331-left_tumor.png</td>\n",
       "      <td>/home/pcallec/NACHOS/data/5_kidneys/01/tumor_t...</td>\n",
       "      <td>AJBH331-left</td>\n",
       "      <td>tumor</td>\n",
       "    </tr>\n",
       "    <tr>\n",
       "      <th>3</th>\n",
       "      <td>1823_AJBH331-left_tumor.png</td>\n",
       "      <td>/home/pcallec/NACHOS/data/5_kidneys/01/tumor_t...</td>\n",
       "      <td>AJBH331-left</td>\n",
       "      <td>tumor</td>\n",
       "    </tr>\n",
       "    <tr>\n",
       "      <th>4</th>\n",
       "      <td>3660_AJBH331-left_tumor.png</td>\n",
       "      <td>/home/pcallec/NACHOS/data/5_kidneys/01/tumor_t...</td>\n",
       "      <td>AJBH331-left</td>\n",
       "      <td>tumor</td>\n",
       "    </tr>\n",
       "  </tbody>\n",
       "</table>\n",
       "</div>"
      ],
      "text/plain": [
       "                      filename  \\\n",
       "0  9298_AJBH331-left_tumor.png   \n",
       "1  3296_AJBH331-left_tumor.png   \n",
       "2  9457_AJBH331-left_tumor.png   \n",
       "3  1823_AJBH331-left_tumor.png   \n",
       "4  3660_AJBH331-left_tumor.png   \n",
       "\n",
       "                                   absolute_filepath     fold_name category  \n",
       "0  /home/pcallec/NACHOS/data/5_kidneys/01/tumor_t...  AJBH331-left    tumor  \n",
       "1  /home/pcallec/NACHOS/data/5_kidneys/01/tumor_t...  AJBH331-left    tumor  \n",
       "2  /home/pcallec/NACHOS/data/5_kidneys/01/tumor_t...  AJBH331-left    tumor  \n",
       "3  /home/pcallec/NACHOS/data/5_kidneys/01/tumor_t...  AJBH331-left    tumor  \n",
       "4  /home/pcallec/NACHOS/data/5_kidneys/01/tumor_t...  AJBH331-left    tumor  "
      ]
     },
     "execution_count": 18,
     "metadata": {},
     "output_type": "execute_result"
    }
   ],
   "source": [
    "df_data.head()"
   ]
  },
  {
   "cell_type": "code",
   "execution_count": 21,
   "metadata": {},
   "outputs": [
    {
     "data": {
      "text/plain": [
       "array(['AJBH331-left', 'AILY469-left', 'AIJV450-right', 'AIKS388-left',\n",
       "       'AILU486-right'], dtype=object)"
      ]
     },
     "execution_count": 21,
     "metadata": {},
     "output_type": "execute_result"
    }
   ],
   "source": [
    "df_data[\"fold_name\"].unique()"
   ]
  },
  {
   "cell_type": "code",
   "execution_count": 22,
   "metadata": {},
   "outputs": [
    {
     "data": {
      "text/plain": [
       "array(['tumor', 'pelvis', 'cortex', 'medulla', 'calyx', 'fat'],\n",
       "      dtype=object)"
      ]
     },
     "execution_count": 22,
     "metadata": {},
     "output_type": "execute_result"
    }
   ],
   "source": [
    "df_data[\"category\"].unique()"
   ]
  },
  {
   "cell_type": "code",
   "execution_count": 24,
   "metadata": {},
   "outputs": [],
   "source": [
    "l_category=[\"cortex\", \"medulla\", \"calyx\", \"fat\", \"tumor\", \"pelvis\"]\n",
    "\n",
    "category_to_label = {category: label for label, category in enumerate(l_category)}\n",
    "df_data['label'] = df_data['category'].map(category_to_label)\n",
    "df_data.to_csv(\"/home/pcallec/analyze_images/results/renal_carcinoma/renal_carcinoma_metadata.csv\", index=False)"
   ]
  },
  {
   "cell_type": "code",
   "execution_count": 26,
   "metadata": {},
   "outputs": [
    {
     "data": {
      "text/html": [
       "<div>\n",
       "<style scoped>\n",
       "    .dataframe tbody tr th:only-of-type {\n",
       "        vertical-align: middle;\n",
       "    }\n",
       "\n",
       "    .dataframe tbody tr th {\n",
       "        vertical-align: top;\n",
       "    }\n",
       "\n",
       "    .dataframe thead th {\n",
       "        text-align: right;\n",
       "    }\n",
       "</style>\n",
       "<table border=\"1\" class=\"dataframe\">\n",
       "  <thead>\n",
       "    <tr style=\"text-align: right;\">\n",
       "      <th></th>\n",
       "      <th>filename</th>\n",
       "      <th>absolute_filepath</th>\n",
       "      <th>fold_name</th>\n",
       "      <th>category</th>\n",
       "      <th>label</th>\n",
       "    </tr>\n",
       "  </thead>\n",
       "  <tbody>\n",
       "    <tr>\n",
       "      <th>0</th>\n",
       "      <td>9298_AJBH331-left_tumor.png</td>\n",
       "      <td>/home/pcallec/NACHOS/data/5_kidneys/01/tumor_t...</td>\n",
       "      <td>AJBH331-left</td>\n",
       "      <td>tumor</td>\n",
       "      <td>4</td>\n",
       "    </tr>\n",
       "    <tr>\n",
       "      <th>1</th>\n",
       "      <td>3296_AJBH331-left_tumor.png</td>\n",
       "      <td>/home/pcallec/NACHOS/data/5_kidneys/01/tumor_t...</td>\n",
       "      <td>AJBH331-left</td>\n",
       "      <td>tumor</td>\n",
       "      <td>4</td>\n",
       "    </tr>\n",
       "    <tr>\n",
       "      <th>2</th>\n",
       "      <td>9457_AJBH331-left_tumor.png</td>\n",
       "      <td>/home/pcallec/NACHOS/data/5_kidneys/01/tumor_t...</td>\n",
       "      <td>AJBH331-left</td>\n",
       "      <td>tumor</td>\n",
       "      <td>4</td>\n",
       "    </tr>\n",
       "    <tr>\n",
       "      <th>3</th>\n",
       "      <td>1823_AJBH331-left_tumor.png</td>\n",
       "      <td>/home/pcallec/NACHOS/data/5_kidneys/01/tumor_t...</td>\n",
       "      <td>AJBH331-left</td>\n",
       "      <td>tumor</td>\n",
       "      <td>4</td>\n",
       "    </tr>\n",
       "    <tr>\n",
       "      <th>4</th>\n",
       "      <td>3660_AJBH331-left_tumor.png</td>\n",
       "      <td>/home/pcallec/NACHOS/data/5_kidneys/01/tumor_t...</td>\n",
       "      <td>AJBH331-left</td>\n",
       "      <td>tumor</td>\n",
       "      <td>4</td>\n",
       "    </tr>\n",
       "  </tbody>\n",
       "</table>\n",
       "</div>"
      ],
      "text/plain": [
       "                      filename  \\\n",
       "0  9298_AJBH331-left_tumor.png   \n",
       "1  3296_AJBH331-left_tumor.png   \n",
       "2  9457_AJBH331-left_tumor.png   \n",
       "3  1823_AJBH331-left_tumor.png   \n",
       "4  3660_AJBH331-left_tumor.png   \n",
       "\n",
       "                                   absolute_filepath     fold_name category  \\\n",
       "0  /home/pcallec/NACHOS/data/5_kidneys/01/tumor_t...  AJBH331-left    tumor   \n",
       "1  /home/pcallec/NACHOS/data/5_kidneys/01/tumor_t...  AJBH331-left    tumor   \n",
       "2  /home/pcallec/NACHOS/data/5_kidneys/01/tumor_t...  AJBH331-left    tumor   \n",
       "3  /home/pcallec/NACHOS/data/5_kidneys/01/tumor_t...  AJBH331-left    tumor   \n",
       "4  /home/pcallec/NACHOS/data/5_kidneys/01/tumor_t...  AJBH331-left    tumor   \n",
       "\n",
       "   label  \n",
       "0      4  \n",
       "1      4  \n",
       "2      4  \n",
       "3      4  \n",
       "4      4  "
      ]
     },
     "execution_count": 26,
     "metadata": {},
     "output_type": "execute_result"
    }
   ],
   "source": [
    "df_data.head()"
   ]
  },
  {
   "cell_type": "code",
   "execution_count": 27,
   "metadata": {},
   "outputs": [
    {
     "data": {
      "text/plain": [
       "Counter({'tumor': 50000,\n",
       "         'pelvis': 50000,\n",
       "         'cortex': 50000,\n",
       "         'medulla': 50000,\n",
       "         'calyx': 50000,\n",
       "         'fat': 50000})"
      ]
     },
     "execution_count": 27,
     "metadata": {},
     "output_type": "execute_result"
    }
   ],
   "source": [
    "Counter(df_data[\"category\"])"
   ]
  },
  {
   "cell_type": "code",
   "execution_count": 28,
   "metadata": {},
   "outputs": [
    {
     "data": {
      "text/plain": [
       "array(['tumor', 'pelvis', 'cortex', 'medulla', 'calyx', 'fat'],\n",
       "      dtype=object)"
      ]
     },
     "execution_count": 28,
     "metadata": {},
     "output_type": "execute_result"
    }
   ],
   "source": [
    "l_category = df_data[\"category\"].unique()\n",
    "l_category"
   ]
  },
  {
   "cell_type": "code",
   "execution_count": 29,
   "metadata": {},
   "outputs": [
    {
     "data": {
      "text/html": [
       "<div>\n",
       "<style scoped>\n",
       "    .dataframe tbody tr th:only-of-type {\n",
       "        vertical-align: middle;\n",
       "    }\n",
       "\n",
       "    .dataframe tbody tr th {\n",
       "        vertical-align: top;\n",
       "    }\n",
       "\n",
       "    .dataframe thead th {\n",
       "        text-align: right;\n",
       "    }\n",
       "</style>\n",
       "<table border=\"1\" class=\"dataframe\">\n",
       "  <thead>\n",
       "    <tr style=\"text-align: right;\">\n",
       "      <th></th>\n",
       "      <th>fold_name</th>\n",
       "      <th>category</th>\n",
       "      <th>count</th>\n",
       "    </tr>\n",
       "  </thead>\n",
       "  <tbody>\n",
       "    <tr>\n",
       "      <th>0</th>\n",
       "      <td>AIJV450-right</td>\n",
       "      <td>calyx</td>\n",
       "      <td>10000</td>\n",
       "    </tr>\n",
       "    <tr>\n",
       "      <th>1</th>\n",
       "      <td>AIJV450-right</td>\n",
       "      <td>cortex</td>\n",
       "      <td>10000</td>\n",
       "    </tr>\n",
       "    <tr>\n",
       "      <th>2</th>\n",
       "      <td>AIJV450-right</td>\n",
       "      <td>fat</td>\n",
       "      <td>10000</td>\n",
       "    </tr>\n",
       "    <tr>\n",
       "      <th>3</th>\n",
       "      <td>AIJV450-right</td>\n",
       "      <td>medulla</td>\n",
       "      <td>10000</td>\n",
       "    </tr>\n",
       "    <tr>\n",
       "      <th>4</th>\n",
       "      <td>AIJV450-right</td>\n",
       "      <td>pelvis</td>\n",
       "      <td>10000</td>\n",
       "    </tr>\n",
       "  </tbody>\n",
       "</table>\n",
       "</div>"
      ],
      "text/plain": [
       "       fold_name category  count\n",
       "0  AIJV450-right    calyx  10000\n",
       "1  AIJV450-right   cortex  10000\n",
       "2  AIJV450-right      fat  10000\n",
       "3  AIJV450-right  medulla  10000\n",
       "4  AIJV450-right   pelvis  10000"
      ]
     },
     "execution_count": 29,
     "metadata": {},
     "output_type": "execute_result"
    }
   ],
   "source": [
    "df_data_stats = df_data.groupby([\"fold_name\", \"category\"]).size().reset_index(name='count')\n",
    "df_data_stats.head()"
   ]
  },
  {
   "cell_type": "code",
   "execution_count": 30,
   "metadata": {},
   "outputs": [],
   "source": [
    "df_data_stats.to_csv(\"/home/pcallec/analyze_images/results/renal_carcinoma/renal_carcinoma_properties_stats.csv\", index=False)"
   ]
  }
 ],
 "metadata": {
  "kernelspec": {
   "display_name": "stats",
   "language": "python",
   "name": "python3"
  },
  "language_info": {
   "codemirror_mode": {
    "name": "ipython",
    "version": 3
   },
   "file_extension": ".py",
   "mimetype": "text/x-python",
   "name": "python",
   "nbconvert_exporter": "python",
   "pygments_lexer": "ipython3",
   "version": "3.10.12"
  }
 },
 "nbformat": 4,
 "nbformat_minor": 2
}
