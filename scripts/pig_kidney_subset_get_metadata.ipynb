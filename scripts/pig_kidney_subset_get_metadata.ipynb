{
 "cells": [
  {
   "cell_type": "code",
   "execution_count": 13,
   "metadata": {},
   "outputs": [],
   "source": [
    "from pathlib import Path\n",
    "import re\n",
    "import pandas as pd\n",
    "from collections import Counter\n",
    "from tqdm import tqdm\n",
    "import numpy as np"
   ]
  },
  {
   "cell_type": "code",
   "execution_count": 14,
   "metadata": {},
   "outputs": [],
   "source": [
    "data_folder_path = Path(\"/home/pcallec/NACHOS/data/pig_kidney_subset\")"
   ]
  },
  {
   "cell_type": "code",
   "execution_count": 15,
   "metadata": {},
   "outputs": [],
   "source": [
    "l_image_path = list(data_folder_path.rglob(\"*.jpg\"))"
   ]
  },
  {
   "cell_type": "code",
   "execution_count": 16,
   "metadata": {},
   "outputs": [
    {
     "data": {
      "text/plain": [
       "[PosixPath('/home/pcallec/NACHOS/data/pig_kidney_subset/k4/k4_medulla/39_k4_medulla.jpg'),\n",
       " PosixPath('/home/pcallec/NACHOS/data/pig_kidney_subset/k4/k4_medulla/15_k4_medulla.jpg'),\n",
       " PosixPath('/home/pcallec/NACHOS/data/pig_kidney_subset/k4/k4_medulla/45_k4_medulla.jpg'),\n",
       " PosixPath('/home/pcallec/NACHOS/data/pig_kidney_subset/k4/k4_medulla/64_k4_medulla.jpg'),\n",
       " PosixPath('/home/pcallec/NACHOS/data/pig_kidney_subset/k4/k4_medulla/12_k4_medulla.jpg')]"
      ]
     },
     "execution_count": 16,
     "metadata": {},
     "output_type": "execute_result"
    }
   ],
   "source": [
    "l_image_path[:5]"
   ]
  },
  {
   "cell_type": "code",
   "execution_count": 17,
   "metadata": {},
   "outputs": [
    {
     "data": {
      "text/plain": [
       "'k4_medulla'"
      ]
     },
     "execution_count": 17,
     "metadata": {},
     "output_type": "execute_result"
    }
   ],
   "source": [
    "l_image_path[0].parts[-2]"
   ]
  },
  {
   "cell_type": "code",
   "execution_count": 18,
   "metadata": {},
   "outputs": [
    {
     "name": "stderr",
     "output_type": "stream",
     "text": [
      "100%|██████████| 1500/1500 [00:00<00:00, 4609.71it/s]\n"
     ]
    }
   ],
   "source": [
    "# filename,fold_name,relative_path,absolute_filepath,type\n",
    "df_data = pd.DataFrame()\n",
    "for image_path in tqdm(l_image_path):\n",
    "    filename = image_path.name\n",
    "    filename_stem = image_path.stem\n",
    "    \n",
    "    split_text = re.split(r'[_]', filename_stem)\n",
    "    # e.g. ['39', 'k4', 'medulla']\n",
    "    \n",
    "    row_dict = pd.DataFrame({\n",
    "        \"filename\":[filename],\n",
    "        \"absolute_filepath\": [image_path],\n",
    "        \"fold_name\": [split_text[1]],\n",
    "        \"category\": [split_text[2]]\n",
    "    })\n",
    "    \n",
    "    df_data = pd.concat([df_data, row_dict], ignore_index=True)"
   ]
  },
  {
   "cell_type": "code",
   "execution_count": 19,
   "metadata": {},
   "outputs": [
    {
     "data": {
      "text/html": [
       "<div>\n",
       "<style scoped>\n",
       "    .dataframe tbody tr th:only-of-type {\n",
       "        vertical-align: middle;\n",
       "    }\n",
       "\n",
       "    .dataframe tbody tr th {\n",
       "        vertical-align: top;\n",
       "    }\n",
       "\n",
       "    .dataframe thead th {\n",
       "        text-align: right;\n",
       "    }\n",
       "</style>\n",
       "<table border=\"1\" class=\"dataframe\">\n",
       "  <thead>\n",
       "    <tr style=\"text-align: right;\">\n",
       "      <th></th>\n",
       "      <th>filename</th>\n",
       "      <th>absolute_filepath</th>\n",
       "      <th>fold_name</th>\n",
       "      <th>category</th>\n",
       "    </tr>\n",
       "  </thead>\n",
       "  <tbody>\n",
       "    <tr>\n",
       "      <th>0</th>\n",
       "      <td>39_k4_medulla.jpg</td>\n",
       "      <td>/home/pcallec/NACHOS/data/pig_kidney_subset/k4...</td>\n",
       "      <td>k4</td>\n",
       "      <td>medulla</td>\n",
       "    </tr>\n",
       "    <tr>\n",
       "      <th>1</th>\n",
       "      <td>15_k4_medulla.jpg</td>\n",
       "      <td>/home/pcallec/NACHOS/data/pig_kidney_subset/k4...</td>\n",
       "      <td>k4</td>\n",
       "      <td>medulla</td>\n",
       "    </tr>\n",
       "    <tr>\n",
       "      <th>2</th>\n",
       "      <td>45_k4_medulla.jpg</td>\n",
       "      <td>/home/pcallec/NACHOS/data/pig_kidney_subset/k4...</td>\n",
       "      <td>k4</td>\n",
       "      <td>medulla</td>\n",
       "    </tr>\n",
       "    <tr>\n",
       "      <th>3</th>\n",
       "      <td>64_k4_medulla.jpg</td>\n",
       "      <td>/home/pcallec/NACHOS/data/pig_kidney_subset/k4...</td>\n",
       "      <td>k4</td>\n",
       "      <td>medulla</td>\n",
       "    </tr>\n",
       "    <tr>\n",
       "      <th>4</th>\n",
       "      <td>12_k4_medulla.jpg</td>\n",
       "      <td>/home/pcallec/NACHOS/data/pig_kidney_subset/k4...</td>\n",
       "      <td>k4</td>\n",
       "      <td>medulla</td>\n",
       "    </tr>\n",
       "  </tbody>\n",
       "</table>\n",
       "</div>"
      ],
      "text/plain": [
       "            filename                                  absolute_filepath  \\\n",
       "0  39_k4_medulla.jpg  /home/pcallec/NACHOS/data/pig_kidney_subset/k4...   \n",
       "1  15_k4_medulla.jpg  /home/pcallec/NACHOS/data/pig_kidney_subset/k4...   \n",
       "2  45_k4_medulla.jpg  /home/pcallec/NACHOS/data/pig_kidney_subset/k4...   \n",
       "3  64_k4_medulla.jpg  /home/pcallec/NACHOS/data/pig_kidney_subset/k4...   \n",
       "4  12_k4_medulla.jpg  /home/pcallec/NACHOS/data/pig_kidney_subset/k4...   \n",
       "\n",
       "  fold_name category  \n",
       "0        k4  medulla  \n",
       "1        k4  medulla  \n",
       "2        k4  medulla  \n",
       "3        k4  medulla  \n",
       "4        k4  medulla  "
      ]
     },
     "execution_count": 19,
     "metadata": {},
     "output_type": "execute_result"
    }
   ],
   "source": [
    "df_data.head()"
   ]
  },
  {
   "cell_type": "code",
   "execution_count": 20,
   "metadata": {},
   "outputs": [],
   "source": [
    "l_category=[\"cortex\", \"medulla\",\"pelvis-calyx\"]\n",
    "\n",
    "category_to_label = {category: label for label, category in enumerate(l_category)}\n",
    "df_data['label'] = df_data['category'].map(category_to_label)\n",
    "df_data.to_csv(\"/home/pcallec/analyze_images/results/pig_kidney_subset/pig_kidney_subset_metadata.csv\", index=False)"
   ]
  },
  {
   "cell_type": "code",
   "execution_count": 21,
   "metadata": {},
   "outputs": [
    {
     "data": {
      "text/html": [
       "<div>\n",
       "<style scoped>\n",
       "    .dataframe tbody tr th:only-of-type {\n",
       "        vertical-align: middle;\n",
       "    }\n",
       "\n",
       "    .dataframe tbody tr th {\n",
       "        vertical-align: top;\n",
       "    }\n",
       "\n",
       "    .dataframe thead th {\n",
       "        text-align: right;\n",
       "    }\n",
       "</style>\n",
       "<table border=\"1\" class=\"dataframe\">\n",
       "  <thead>\n",
       "    <tr style=\"text-align: right;\">\n",
       "      <th></th>\n",
       "      <th>filename</th>\n",
       "      <th>absolute_filepath</th>\n",
       "      <th>fold_name</th>\n",
       "      <th>category</th>\n",
       "      <th>label</th>\n",
       "    </tr>\n",
       "  </thead>\n",
       "  <tbody>\n",
       "    <tr>\n",
       "      <th>0</th>\n",
       "      <td>39_k4_medulla.jpg</td>\n",
       "      <td>/home/pcallec/NACHOS/data/pig_kidney_subset/k4...</td>\n",
       "      <td>k4</td>\n",
       "      <td>medulla</td>\n",
       "      <td>1</td>\n",
       "    </tr>\n",
       "    <tr>\n",
       "      <th>1</th>\n",
       "      <td>15_k4_medulla.jpg</td>\n",
       "      <td>/home/pcallec/NACHOS/data/pig_kidney_subset/k4...</td>\n",
       "      <td>k4</td>\n",
       "      <td>medulla</td>\n",
       "      <td>1</td>\n",
       "    </tr>\n",
       "    <tr>\n",
       "      <th>2</th>\n",
       "      <td>45_k4_medulla.jpg</td>\n",
       "      <td>/home/pcallec/NACHOS/data/pig_kidney_subset/k4...</td>\n",
       "      <td>k4</td>\n",
       "      <td>medulla</td>\n",
       "      <td>1</td>\n",
       "    </tr>\n",
       "    <tr>\n",
       "      <th>3</th>\n",
       "      <td>64_k4_medulla.jpg</td>\n",
       "      <td>/home/pcallec/NACHOS/data/pig_kidney_subset/k4...</td>\n",
       "      <td>k4</td>\n",
       "      <td>medulla</td>\n",
       "      <td>1</td>\n",
       "    </tr>\n",
       "    <tr>\n",
       "      <th>4</th>\n",
       "      <td>12_k4_medulla.jpg</td>\n",
       "      <td>/home/pcallec/NACHOS/data/pig_kidney_subset/k4...</td>\n",
       "      <td>k4</td>\n",
       "      <td>medulla</td>\n",
       "      <td>1</td>\n",
       "    </tr>\n",
       "  </tbody>\n",
       "</table>\n",
       "</div>"
      ],
      "text/plain": [
       "            filename                                  absolute_filepath  \\\n",
       "0  39_k4_medulla.jpg  /home/pcallec/NACHOS/data/pig_kidney_subset/k4...   \n",
       "1  15_k4_medulla.jpg  /home/pcallec/NACHOS/data/pig_kidney_subset/k4...   \n",
       "2  45_k4_medulla.jpg  /home/pcallec/NACHOS/data/pig_kidney_subset/k4...   \n",
       "3  64_k4_medulla.jpg  /home/pcallec/NACHOS/data/pig_kidney_subset/k4...   \n",
       "4  12_k4_medulla.jpg  /home/pcallec/NACHOS/data/pig_kidney_subset/k4...   \n",
       "\n",
       "  fold_name category  label  \n",
       "0        k4  medulla      1  \n",
       "1        k4  medulla      1  \n",
       "2        k4  medulla      1  \n",
       "3        k4  medulla      1  \n",
       "4        k4  medulla      1  "
      ]
     },
     "execution_count": 21,
     "metadata": {},
     "output_type": "execute_result"
    }
   ],
   "source": [
    "df_data.head()"
   ]
  },
  {
   "cell_type": "code",
   "execution_count": 22,
   "metadata": {},
   "outputs": [
    {
     "data": {
      "text/plain": [
       "Counter({'medulla': 500, 'cortex': 500, 'pelvis-calyx': 500})"
      ]
     },
     "execution_count": 22,
     "metadata": {},
     "output_type": "execute_result"
    }
   ],
   "source": [
    "Counter(df_data[\"category\"])"
   ]
  },
  {
   "cell_type": "code",
   "execution_count": 23,
   "metadata": {},
   "outputs": [
    {
     "data": {
      "text/plain": [
       "array(['medulla', 'cortex', 'pelvis-calyx'], dtype=object)"
      ]
     },
     "execution_count": 23,
     "metadata": {},
     "output_type": "execute_result"
    }
   ],
   "source": [
    "l_category = df_data[\"category\"].unique()\n",
    "l_category"
   ]
  },
  {
   "cell_type": "code",
   "execution_count": 25,
   "metadata": {},
   "outputs": [
    {
     "data": {
      "text/html": [
       "<div>\n",
       "<style scoped>\n",
       "    .dataframe tbody tr th:only-of-type {\n",
       "        vertical-align: middle;\n",
       "    }\n",
       "\n",
       "    .dataframe tbody tr th {\n",
       "        vertical-align: top;\n",
       "    }\n",
       "\n",
       "    .dataframe thead th {\n",
       "        text-align: right;\n",
       "    }\n",
       "</style>\n",
       "<table border=\"1\" class=\"dataframe\">\n",
       "  <thead>\n",
       "    <tr style=\"text-align: right;\">\n",
       "      <th></th>\n",
       "      <th>fold_name</th>\n",
       "      <th>category</th>\n",
       "      <th>count</th>\n",
       "    </tr>\n",
       "  </thead>\n",
       "  <tbody>\n",
       "    <tr>\n",
       "      <th>0</th>\n",
       "      <td>k1</td>\n",
       "      <td>cortex</td>\n",
       "      <td>100</td>\n",
       "    </tr>\n",
       "    <tr>\n",
       "      <th>1</th>\n",
       "      <td>k1</td>\n",
       "      <td>medulla</td>\n",
       "      <td>100</td>\n",
       "    </tr>\n",
       "    <tr>\n",
       "      <th>2</th>\n",
       "      <td>k1</td>\n",
       "      <td>pelvis-calyx</td>\n",
       "      <td>100</td>\n",
       "    </tr>\n",
       "    <tr>\n",
       "      <th>3</th>\n",
       "      <td>k2</td>\n",
       "      <td>cortex</td>\n",
       "      <td>100</td>\n",
       "    </tr>\n",
       "    <tr>\n",
       "      <th>4</th>\n",
       "      <td>k2</td>\n",
       "      <td>medulla</td>\n",
       "      <td>100</td>\n",
       "    </tr>\n",
       "  </tbody>\n",
       "</table>\n",
       "</div>"
      ],
      "text/plain": [
       "  fold_name      category  count\n",
       "0        k1        cortex    100\n",
       "1        k1       medulla    100\n",
       "2        k1  pelvis-calyx    100\n",
       "3        k2        cortex    100\n",
       "4        k2       medulla    100"
      ]
     },
     "execution_count": 25,
     "metadata": {},
     "output_type": "execute_result"
    }
   ],
   "source": [
    "df_data_stats = df_data.groupby([\"fold_name\", \"category\"]).size().reset_index(name='count')\n",
    "df_data_stats.head()"
   ]
  },
  {
   "cell_type": "code",
   "execution_count": 26,
   "metadata": {},
   "outputs": [],
   "source": [
    "df_data_stats.to_csv(\"/home/pcallec/analyze_images/results/pig_kidney_subset/pig_kidney_subset_properties_stats.csv\", index=False)"
   ]
  },
  {
   "cell_type": "code",
   "execution_count": 27,
   "metadata": {},
   "outputs": [],
   "source": [
    "df_data.to_csv(\"/home/pcallec/analyze_images/results/pig_kidney_subset/pig_kidney_subset_properties.csv\", index=False)"
   ]
  },
  {
   "cell_type": "code",
   "execution_count": 28,
   "metadata": {},
   "outputs": [
    {
     "data": {
      "text/html": [
       "<div>\n",
       "<style scoped>\n",
       "    .dataframe tbody tr th:only-of-type {\n",
       "        vertical-align: middle;\n",
       "    }\n",
       "\n",
       "    .dataframe tbody tr th {\n",
       "        vertical-align: top;\n",
       "    }\n",
       "\n",
       "    .dataframe thead th {\n",
       "        text-align: right;\n",
       "    }\n",
       "</style>\n",
       "<table border=\"1\" class=\"dataframe\">\n",
       "  <thead>\n",
       "    <tr style=\"text-align: right;\">\n",
       "      <th></th>\n",
       "      <th>fold_name</th>\n",
       "      <th>category</th>\n",
       "      <th>count</th>\n",
       "    </tr>\n",
       "  </thead>\n",
       "  <tbody>\n",
       "    <tr>\n",
       "      <th>0</th>\n",
       "      <td>k1</td>\n",
       "      <td>cortex</td>\n",
       "      <td>100</td>\n",
       "    </tr>\n",
       "    <tr>\n",
       "      <th>1</th>\n",
       "      <td>k1</td>\n",
       "      <td>medulla</td>\n",
       "      <td>100</td>\n",
       "    </tr>\n",
       "    <tr>\n",
       "      <th>2</th>\n",
       "      <td>k1</td>\n",
       "      <td>pelvis-calyx</td>\n",
       "      <td>100</td>\n",
       "    </tr>\n",
       "    <tr>\n",
       "      <th>3</th>\n",
       "      <td>k2</td>\n",
       "      <td>cortex</td>\n",
       "      <td>100</td>\n",
       "    </tr>\n",
       "    <tr>\n",
       "      <th>4</th>\n",
       "      <td>k2</td>\n",
       "      <td>medulla</td>\n",
       "      <td>100</td>\n",
       "    </tr>\n",
       "    <tr>\n",
       "      <th>5</th>\n",
       "      <td>k2</td>\n",
       "      <td>pelvis-calyx</td>\n",
       "      <td>100</td>\n",
       "    </tr>\n",
       "    <tr>\n",
       "      <th>6</th>\n",
       "      <td>k3</td>\n",
       "      <td>cortex</td>\n",
       "      <td>100</td>\n",
       "    </tr>\n",
       "    <tr>\n",
       "      <th>7</th>\n",
       "      <td>k3</td>\n",
       "      <td>medulla</td>\n",
       "      <td>100</td>\n",
       "    </tr>\n",
       "    <tr>\n",
       "      <th>8</th>\n",
       "      <td>k3</td>\n",
       "      <td>pelvis-calyx</td>\n",
       "      <td>100</td>\n",
       "    </tr>\n",
       "    <tr>\n",
       "      <th>9</th>\n",
       "      <td>k4</td>\n",
       "      <td>cortex</td>\n",
       "      <td>100</td>\n",
       "    </tr>\n",
       "    <tr>\n",
       "      <th>10</th>\n",
       "      <td>k4</td>\n",
       "      <td>medulla</td>\n",
       "      <td>100</td>\n",
       "    </tr>\n",
       "    <tr>\n",
       "      <th>11</th>\n",
       "      <td>k4</td>\n",
       "      <td>pelvis-calyx</td>\n",
       "      <td>100</td>\n",
       "    </tr>\n",
       "    <tr>\n",
       "      <th>12</th>\n",
       "      <td>k5</td>\n",
       "      <td>cortex</td>\n",
       "      <td>100</td>\n",
       "    </tr>\n",
       "    <tr>\n",
       "      <th>13</th>\n",
       "      <td>k5</td>\n",
       "      <td>medulla</td>\n",
       "      <td>100</td>\n",
       "    </tr>\n",
       "    <tr>\n",
       "      <th>14</th>\n",
       "      <td>k5</td>\n",
       "      <td>pelvis-calyx</td>\n",
       "      <td>100</td>\n",
       "    </tr>\n",
       "  </tbody>\n",
       "</table>\n",
       "</div>"
      ],
      "text/plain": [
       "   fold_name      category  count\n",
       "0         k1        cortex    100\n",
       "1         k1       medulla    100\n",
       "2         k1  pelvis-calyx    100\n",
       "3         k2        cortex    100\n",
       "4         k2       medulla    100\n",
       "5         k2  pelvis-calyx    100\n",
       "6         k3        cortex    100\n",
       "7         k3       medulla    100\n",
       "8         k3  pelvis-calyx    100\n",
       "9         k4        cortex    100\n",
       "10        k4       medulla    100\n",
       "11        k4  pelvis-calyx    100\n",
       "12        k5        cortex    100\n",
       "13        k5       medulla    100\n",
       "14        k5  pelvis-calyx    100"
      ]
     },
     "execution_count": 28,
     "metadata": {},
     "output_type": "execute_result"
    }
   ],
   "source": [
    "# Partition data into train, val, and test\n",
    "\n",
    "df_data_stats"
   ]
  }
 ],
 "metadata": {
  "kernelspec": {
   "display_name": "stats",
   "language": "python",
   "name": "python3"
  },
  "language_info": {
   "codemirror_mode": {
    "name": "ipython",
    "version": 3
   },
   "file_extension": ".py",
   "mimetype": "text/x-python",
   "name": "python",
   "nbconvert_exporter": "python",
   "pygments_lexer": "ipython3",
   "version": "3.10.12"
  }
 },
 "nbformat": 4,
 "nbformat_minor": 2
}
