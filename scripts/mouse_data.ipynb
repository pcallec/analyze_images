{
 "cells": [
  {
   "cell_type": "code",
   "execution_count": 1,
   "metadata": {},
   "outputs": [],
   "source": [
    "from pathlib import Path\n",
    "import re\n",
    "import pandas as pd\n",
    "from collections import Counter\n",
    "from tqdm import tqdm\n",
    "import numpy as np"
   ]
  },
  {
   "cell_type": "code",
   "execution_count": 2,
   "metadata": {},
   "outputs": [],
   "source": [
    "data_folder_path = Path(\"/home/pcallec/Mouse_data_reprezentative_zip\")"
   ]
  },
  {
   "cell_type": "markdown",
   "metadata": {},
   "source": [
    "The category/class in the filenames is not correct all the time, e.g. some images in the MBZ folder have categories CIS or CON. Therefore, the category/class should be extracted from the folder name"
   ]
  },
  {
   "cell_type": "code",
   "execution_count": 3,
   "metadata": {},
   "outputs": [],
   "source": [
    "l_image_path = list(data_folder_path.rglob(\"*.png\"))"
   ]
  },
  {
   "cell_type": "code",
   "execution_count": 4,
   "metadata": {},
   "outputs": [
    {
     "data": {
      "text/plain": [
       "[PosixPath('/home/pcallec/Mouse_data_reprezentative_zip/Images_Mouse_CON/167-CON_0002_ModePolarization3D_Total_Intensity_0548.png'),\n",
       " PosixPath('/home/pcallec/Mouse_data_reprezentative_zip/Images_Mouse_CON/154-CON_0002_ModePolarization3D_Total_Intensity_0410.png'),\n",
       " PosixPath('/home/pcallec/Mouse_data_reprezentative_zip/Images_Mouse_CON/154-CON_0002_ModePolarization3D_Total_Intensity_0578.png'),\n",
       " PosixPath('/home/pcallec/Mouse_data_reprezentative_zip/Images_Mouse_CON/176-CON_0002_ModePolarization3D_Total_Intensity_0370.png'),\n",
       " PosixPath('/home/pcallec/Mouse_data_reprezentative_zip/Images_Mouse_CON/168_Control_0003_ModePolarization3D_Total_Intensity_0426.png')]"
      ]
     },
     "execution_count": 4,
     "metadata": {},
     "output_type": "execute_result"
    }
   ],
   "source": [
    "l_image_path[:5]"
   ]
  },
  {
   "cell_type": "code",
   "execution_count": 8,
   "metadata": {},
   "outputs": [
    {
     "data": {
      "text/plain": [
       "'Images_Mouse_CON'"
      ]
     },
     "execution_count": 8,
     "metadata": {},
     "output_type": "execute_result"
    }
   ],
   "source": [
    "l_image_path[0].parts[-2]"
   ]
  },
  {
   "cell_type": "code",
   "execution_count": 9,
   "metadata": {},
   "outputs": [
    {
     "name": "stderr",
     "output_type": "stream",
     "text": [
      "100%|██████████| 28000/28000 [00:18<00:00, 1477.38it/s]\n"
     ]
    }
   ],
   "source": [
    "# filename,fold_name,relative_path,absolute_filepath,type\n",
    "df_data = pd.DataFrame()\n",
    "for image_path in tqdm(l_image_path):\n",
    "    filename = image_path.name\n",
    "    filename_stem = image_path.stem\n",
    "    \n",
    "    split_text = re.split(r'[-_]', filename)\n",
    "    # e.g. ['167', 'CON', '0002', 'ModePolarization3D', 'Total', 'Intensity', '0548']\n",
    "    \n",
    "    row_dict = pd.DataFrame({\n",
    "        \"filename\":[filename],\n",
    "        \"absolute_filepath\": [image_path],\n",
    "        \"mouse_id\": [int(split_text[0])],\n",
    "        \"category\": [image_path.parts[-2].split(\"_\")[-1]],\n",
    "        \"tumor_id\": [int(split_text[2])],\n",
    "    })\n",
    "    \n",
    "    df_data = pd.concat([df_data, row_dict], ignore_index=True)"
   ]
  },
  {
   "cell_type": "code",
   "execution_count": 10,
   "metadata": {},
   "outputs": [
    {
     "data": {
      "text/html": [
       "<div>\n",
       "<style scoped>\n",
       "    .dataframe tbody tr th:only-of-type {\n",
       "        vertical-align: middle;\n",
       "    }\n",
       "\n",
       "    .dataframe tbody tr th {\n",
       "        vertical-align: top;\n",
       "    }\n",
       "\n",
       "    .dataframe thead th {\n",
       "        text-align: right;\n",
       "    }\n",
       "</style>\n",
       "<table border=\"1\" class=\"dataframe\">\n",
       "  <thead>\n",
       "    <tr style=\"text-align: right;\">\n",
       "      <th></th>\n",
       "      <th>filename</th>\n",
       "      <th>absolute_filepath</th>\n",
       "      <th>mouse_id</th>\n",
       "      <th>category</th>\n",
       "      <th>tumor_id</th>\n",
       "    </tr>\n",
       "  </thead>\n",
       "  <tbody>\n",
       "    <tr>\n",
       "      <th>0</th>\n",
       "      <td>167-CON_0002_ModePolarization3D_Total_Intensit...</td>\n",
       "      <td>/home/pcallec/Mouse_data_reprezentative_zip/Im...</td>\n",
       "      <td>167</td>\n",
       "      <td>CON</td>\n",
       "      <td>2</td>\n",
       "    </tr>\n",
       "    <tr>\n",
       "      <th>1</th>\n",
       "      <td>154-CON_0002_ModePolarization3D_Total_Intensit...</td>\n",
       "      <td>/home/pcallec/Mouse_data_reprezentative_zip/Im...</td>\n",
       "      <td>154</td>\n",
       "      <td>CON</td>\n",
       "      <td>2</td>\n",
       "    </tr>\n",
       "    <tr>\n",
       "      <th>2</th>\n",
       "      <td>154-CON_0002_ModePolarization3D_Total_Intensit...</td>\n",
       "      <td>/home/pcallec/Mouse_data_reprezentative_zip/Im...</td>\n",
       "      <td>154</td>\n",
       "      <td>CON</td>\n",
       "      <td>2</td>\n",
       "    </tr>\n",
       "    <tr>\n",
       "      <th>3</th>\n",
       "      <td>176-CON_0002_ModePolarization3D_Total_Intensit...</td>\n",
       "      <td>/home/pcallec/Mouse_data_reprezentative_zip/Im...</td>\n",
       "      <td>176</td>\n",
       "      <td>CON</td>\n",
       "      <td>2</td>\n",
       "    </tr>\n",
       "    <tr>\n",
       "      <th>4</th>\n",
       "      <td>168_Control_0003_ModePolarization3D_Total_Inte...</td>\n",
       "      <td>/home/pcallec/Mouse_data_reprezentative_zip/Im...</td>\n",
       "      <td>168</td>\n",
       "      <td>CON</td>\n",
       "      <td>3</td>\n",
       "    </tr>\n",
       "  </tbody>\n",
       "</table>\n",
       "</div>"
      ],
      "text/plain": [
       "                                            filename  \\\n",
       "0  167-CON_0002_ModePolarization3D_Total_Intensit...   \n",
       "1  154-CON_0002_ModePolarization3D_Total_Intensit...   \n",
       "2  154-CON_0002_ModePolarization3D_Total_Intensit...   \n",
       "3  176-CON_0002_ModePolarization3D_Total_Intensit...   \n",
       "4  168_Control_0003_ModePolarization3D_Total_Inte...   \n",
       "\n",
       "                                   absolute_filepath  mouse_id category  \\\n",
       "0  /home/pcallec/Mouse_data_reprezentative_zip/Im...       167      CON   \n",
       "1  /home/pcallec/Mouse_data_reprezentative_zip/Im...       154      CON   \n",
       "2  /home/pcallec/Mouse_data_reprezentative_zip/Im...       154      CON   \n",
       "3  /home/pcallec/Mouse_data_reprezentative_zip/Im...       176      CON   \n",
       "4  /home/pcallec/Mouse_data_reprezentative_zip/Im...       168      CON   \n",
       "\n",
       "   tumor_id  \n",
       "0         2  \n",
       "1         2  \n",
       "2         2  \n",
       "3         2  \n",
       "4         3  "
      ]
     },
     "execution_count": 10,
     "metadata": {},
     "output_type": "execute_result"
    }
   ],
   "source": [
    "df_data.head()"
   ]
  },
  {
   "cell_type": "code",
   "execution_count": 11,
   "metadata": {},
   "outputs": [
    {
     "data": {
      "text/plain": [
       "Counter({'CON': 7000, 'COMB': 7000, 'CIS': 7000, 'MBZ': 7000})"
      ]
     },
     "execution_count": 11,
     "metadata": {},
     "output_type": "execute_result"
    }
   ],
   "source": [
    "Counter(df_data[\"category\"])"
   ]
  },
  {
   "cell_type": "code",
   "execution_count": 13,
   "metadata": {},
   "outputs": [],
   "source": [
    "df_data = df_data.replace(\"Control\", \"CON\")"
   ]
  },
  {
   "cell_type": "code",
   "execution_count": 14,
   "metadata": {},
   "outputs": [
    {
     "data": {
      "text/plain": [
       "array(['CON', 'COMB', 'CIS', 'MBZ'], dtype=object)"
      ]
     },
     "execution_count": 14,
     "metadata": {},
     "output_type": "execute_result"
    }
   ],
   "source": [
    "l_category = df_data[\"category\"].unique()\n",
    "l_category"
   ]
  },
  {
   "cell_type": "code",
   "execution_count": 15,
   "metadata": {},
   "outputs": [
    {
     "data": {
      "text/plain": [
       "array([167, 154, 176, 168, 195, 156, 185, 171, 188, 138, 162, 130, 172,\n",
       "       179, 145, 128, 164, 180, 147, 198, 158, 135, 159, 178, 129, 169,\n",
       "       181, 143, 196, 144, 136, 165, 186, 157])"
      ]
     },
     "execution_count": 15,
     "metadata": {},
     "output_type": "execute_result"
    }
   ],
   "source": [
    "df_data[\"mouse_id\"].unique()"
   ]
  },
  {
   "cell_type": "code",
   "execution_count": 12,
   "metadata": {},
   "outputs": [],
   "source": [
    "# for category in l_category:\n",
    "    \n",
    "#     l_mouse_id = df_data.query(\"category==@category\")[\"mouse_id\"].unique()\n",
    "#     for mouse_id in l_mouse_id:\n",
    "#         print(mouse_id, \n",
    "#               df_data.query(\"category==@category and mouse_id==@mouse_id\")[\"mouse_id\"].count())"
   ]
  },
  {
   "cell_type": "code",
   "execution_count": 16,
   "metadata": {},
   "outputs": [
    {
     "data": {
      "text/html": [
       "<div>\n",
       "<style scoped>\n",
       "    .dataframe tbody tr th:only-of-type {\n",
       "        vertical-align: middle;\n",
       "    }\n",
       "\n",
       "    .dataframe tbody tr th {\n",
       "        vertical-align: top;\n",
       "    }\n",
       "\n",
       "    .dataframe thead th {\n",
       "        text-align: right;\n",
       "    }\n",
       "</style>\n",
       "<table border=\"1\" class=\"dataframe\">\n",
       "  <thead>\n",
       "    <tr style=\"text-align: right;\">\n",
       "      <th></th>\n",
       "      <th>category</th>\n",
       "      <th>mouse_id</th>\n",
       "      <th>tumor_id</th>\n",
       "      <th>count</th>\n",
       "    </tr>\n",
       "  </thead>\n",
       "  <tbody>\n",
       "    <tr>\n",
       "      <th>0</th>\n",
       "      <td>CIS</td>\n",
       "      <td>135</td>\n",
       "      <td>1</td>\n",
       "      <td>400</td>\n",
       "    </tr>\n",
       "    <tr>\n",
       "      <th>1</th>\n",
       "      <td>CIS</td>\n",
       "      <td>135</td>\n",
       "      <td>2</td>\n",
       "      <td>400</td>\n",
       "    </tr>\n",
       "    <tr>\n",
       "      <th>2</th>\n",
       "      <td>CIS</td>\n",
       "      <td>147</td>\n",
       "      <td>1</td>\n",
       "      <td>400</td>\n",
       "    </tr>\n",
       "    <tr>\n",
       "      <th>3</th>\n",
       "      <td>CIS</td>\n",
       "      <td>147</td>\n",
       "      <td>2</td>\n",
       "      <td>400</td>\n",
       "    </tr>\n",
       "    <tr>\n",
       "      <th>4</th>\n",
       "      <td>CIS</td>\n",
       "      <td>147</td>\n",
       "      <td>3</td>\n",
       "      <td>400</td>\n",
       "    </tr>\n",
       "  </tbody>\n",
       "</table>\n",
       "</div>"
      ],
      "text/plain": [
       "  category  mouse_id  tumor_id  count\n",
       "0      CIS       135         1    400\n",
       "1      CIS       135         2    400\n",
       "2      CIS       147         1    400\n",
       "3      CIS       147         2    400\n",
       "4      CIS       147         3    400"
      ]
     },
     "execution_count": 16,
     "metadata": {},
     "output_type": "execute_result"
    }
   ],
   "source": [
    "df_data_stats = df_data.groupby([\"category\", \"mouse_id\", \"tumor_id\"]).size().reset_index(name='count')\n",
    "df_data_stats.head()"
   ]
  },
  {
   "cell_type": "code",
   "execution_count": 17,
   "metadata": {},
   "outputs": [],
   "source": [
    "df_data_stats.to_csv(\"/home/pcallec/analyze_images/results/mouse_data/mouse_properties_stats.csv\", index=False)"
   ]
  },
  {
   "cell_type": "code",
   "execution_count": 18,
   "metadata": {},
   "outputs": [
    {
     "data": {
      "text/html": [
       "<div>\n",
       "<style scoped>\n",
       "    .dataframe tbody tr th:only-of-type {\n",
       "        vertical-align: middle;\n",
       "    }\n",
       "\n",
       "    .dataframe tbody tr th {\n",
       "        vertical-align: top;\n",
       "    }\n",
       "\n",
       "    .dataframe thead th {\n",
       "        text-align: right;\n",
       "    }\n",
       "</style>\n",
       "<table border=\"1\" class=\"dataframe\">\n",
       "  <thead>\n",
       "    <tr style=\"text-align: right;\">\n",
       "      <th></th>\n",
       "      <th></th>\n",
       "      <th></th>\n",
       "      <th>filename</th>\n",
       "      <th>absolute_filepath</th>\n",
       "    </tr>\n",
       "    <tr>\n",
       "      <th>category</th>\n",
       "      <th>mouse_id</th>\n",
       "      <th>tumor_id</th>\n",
       "      <th></th>\n",
       "      <th></th>\n",
       "    </tr>\n",
       "  </thead>\n",
       "  <tbody>\n",
       "    <tr>\n",
       "      <th rowspan=\"5\" valign=\"top\">CIS</th>\n",
       "      <th rowspan=\"2\" valign=\"top\">135</th>\n",
       "      <th>1</th>\n",
       "      <td>400</td>\n",
       "      <td>400</td>\n",
       "    </tr>\n",
       "    <tr>\n",
       "      <th>2</th>\n",
       "      <td>400</td>\n",
       "      <td>400</td>\n",
       "    </tr>\n",
       "    <tr>\n",
       "      <th rowspan=\"3\" valign=\"top\">147</th>\n",
       "      <th>1</th>\n",
       "      <td>400</td>\n",
       "      <td>400</td>\n",
       "    </tr>\n",
       "    <tr>\n",
       "      <th>2</th>\n",
       "      <td>400</td>\n",
       "      <td>400</td>\n",
       "    </tr>\n",
       "    <tr>\n",
       "      <th>3</th>\n",
       "      <td>400</td>\n",
       "      <td>400</td>\n",
       "    </tr>\n",
       "    <tr>\n",
       "      <th>...</th>\n",
       "      <th>...</th>\n",
       "      <th>...</th>\n",
       "      <td>...</td>\n",
       "      <td>...</td>\n",
       "    </tr>\n",
       "    <tr>\n",
       "      <th rowspan=\"5\" valign=\"top\">MBZ</th>\n",
       "      <th rowspan=\"2\" valign=\"top\">186</th>\n",
       "      <th>1</th>\n",
       "      <td>250</td>\n",
       "      <td>250</td>\n",
       "    </tr>\n",
       "    <tr>\n",
       "      <th>2</th>\n",
       "      <td>250</td>\n",
       "      <td>250</td>\n",
       "    </tr>\n",
       "    <tr>\n",
       "      <th rowspan=\"3\" valign=\"top\">196</th>\n",
       "      <th>1</th>\n",
       "      <td>350</td>\n",
       "      <td>350</td>\n",
       "    </tr>\n",
       "    <tr>\n",
       "      <th>2</th>\n",
       "      <td>350</td>\n",
       "      <td>350</td>\n",
       "    </tr>\n",
       "    <tr>\n",
       "      <th>3</th>\n",
       "      <td>300</td>\n",
       "      <td>300</td>\n",
       "    </tr>\n",
       "  </tbody>\n",
       "</table>\n",
       "<p>88 rows × 2 columns</p>\n",
       "</div>"
      ],
      "text/plain": [
       "                            filename  absolute_filepath\n",
       "category mouse_id tumor_id                             \n",
       "CIS      135      1              400                400\n",
       "                  2              400                400\n",
       "         147      1              400                400\n",
       "                  2              400                400\n",
       "                  3              400                400\n",
       "...                              ...                ...\n",
       "MBZ      186      1              250                250\n",
       "                  2              250                250\n",
       "         196      1              350                350\n",
       "                  2              350                350\n",
       "                  3              300                300\n",
       "\n",
       "[88 rows x 2 columns]"
      ]
     },
     "execution_count": 18,
     "metadata": {},
     "output_type": "execute_result"
    }
   ],
   "source": [
    "df_data.groupby([\"category\", \"mouse_id\", \"tumor_id\"]).count()"
   ]
  },
  {
   "cell_type": "code",
   "execution_count": 19,
   "metadata": {},
   "outputs": [
    {
     "data": {
      "text/plain": [
       "5"
      ]
     },
     "execution_count": 19,
     "metadata": {},
     "output_type": "execute_result"
    }
   ],
   "source": [
    "df_data[\"tumor_id\"].nunique()"
   ]
  },
  {
   "cell_type": "code",
   "execution_count": 20,
   "metadata": {},
   "outputs": [],
   "source": [
    "df_data.to_csv(\"/home/pcallec/analyze_images/results/mouse_data/mouse_properties.csv\", index=False)"
   ]
  },
  {
   "cell_type": "code",
   "execution_count": 21,
   "metadata": {},
   "outputs": [
    {
     "data": {
      "text/html": [
       "<div>\n",
       "<style scoped>\n",
       "    .dataframe tbody tr th:only-of-type {\n",
       "        vertical-align: middle;\n",
       "    }\n",
       "\n",
       "    .dataframe tbody tr th {\n",
       "        vertical-align: top;\n",
       "    }\n",
       "\n",
       "    .dataframe thead th {\n",
       "        text-align: right;\n",
       "    }\n",
       "</style>\n",
       "<table border=\"1\" class=\"dataframe\">\n",
       "  <thead>\n",
       "    <tr style=\"text-align: right;\">\n",
       "      <th></th>\n",
       "      <th>category</th>\n",
       "      <th>mouse_id</th>\n",
       "      <th>tumor_id</th>\n",
       "      <th>count</th>\n",
       "    </tr>\n",
       "  </thead>\n",
       "  <tbody>\n",
       "    <tr>\n",
       "      <th>0</th>\n",
       "      <td>CIS</td>\n",
       "      <td>135</td>\n",
       "      <td>1</td>\n",
       "      <td>400</td>\n",
       "    </tr>\n",
       "    <tr>\n",
       "      <th>1</th>\n",
       "      <td>CIS</td>\n",
       "      <td>135</td>\n",
       "      <td>2</td>\n",
       "      <td>400</td>\n",
       "    </tr>\n",
       "    <tr>\n",
       "      <th>2</th>\n",
       "      <td>CIS</td>\n",
       "      <td>147</td>\n",
       "      <td>1</td>\n",
       "      <td>400</td>\n",
       "    </tr>\n",
       "    <tr>\n",
       "      <th>3</th>\n",
       "      <td>CIS</td>\n",
       "      <td>147</td>\n",
       "      <td>2</td>\n",
       "      <td>400</td>\n",
       "    </tr>\n",
       "    <tr>\n",
       "      <th>4</th>\n",
       "      <td>CIS</td>\n",
       "      <td>147</td>\n",
       "      <td>3</td>\n",
       "      <td>400</td>\n",
       "    </tr>\n",
       "    <tr>\n",
       "      <th>...</th>\n",
       "      <td>...</td>\n",
       "      <td>...</td>\n",
       "      <td>...</td>\n",
       "      <td>...</td>\n",
       "    </tr>\n",
       "    <tr>\n",
       "      <th>83</th>\n",
       "      <td>MBZ</td>\n",
       "      <td>186</td>\n",
       "      <td>1</td>\n",
       "      <td>250</td>\n",
       "    </tr>\n",
       "    <tr>\n",
       "      <th>84</th>\n",
       "      <td>MBZ</td>\n",
       "      <td>186</td>\n",
       "      <td>2</td>\n",
       "      <td>250</td>\n",
       "    </tr>\n",
       "    <tr>\n",
       "      <th>85</th>\n",
       "      <td>MBZ</td>\n",
       "      <td>196</td>\n",
       "      <td>1</td>\n",
       "      <td>350</td>\n",
       "    </tr>\n",
       "    <tr>\n",
       "      <th>86</th>\n",
       "      <td>MBZ</td>\n",
       "      <td>196</td>\n",
       "      <td>2</td>\n",
       "      <td>350</td>\n",
       "    </tr>\n",
       "    <tr>\n",
       "      <th>87</th>\n",
       "      <td>MBZ</td>\n",
       "      <td>196</td>\n",
       "      <td>3</td>\n",
       "      <td>300</td>\n",
       "    </tr>\n",
       "  </tbody>\n",
       "</table>\n",
       "<p>88 rows × 4 columns</p>\n",
       "</div>"
      ],
      "text/plain": [
       "   category  mouse_id  tumor_id  count\n",
       "0       CIS       135         1    400\n",
       "1       CIS       135         2    400\n",
       "2       CIS       147         1    400\n",
       "3       CIS       147         2    400\n",
       "4       CIS       147         3    400\n",
       "..      ...       ...       ...    ...\n",
       "83      MBZ       186         1    250\n",
       "84      MBZ       186         2    250\n",
       "85      MBZ       196         1    350\n",
       "86      MBZ       196         2    350\n",
       "87      MBZ       196         3    300\n",
       "\n",
       "[88 rows x 4 columns]"
      ]
     },
     "execution_count": 21,
     "metadata": {},
     "output_type": "execute_result"
    }
   ],
   "source": [
    "# Partition data into train, val, and test\n",
    "\n",
    "df_data_stats"
   ]
  },
  {
   "cell_type": "markdown",
   "metadata": {},
   "source": [
    "# CON vs COMB"
   ]
  },
  {
   "cell_type": "code",
   "execution_count": 25,
   "metadata": {},
   "outputs": [],
   "source": [
    "def create_metadata(\n",
    "    l_category: list,\n",
    "    df_data: pd.DataFrame,\n",
    "    df_data_stats: pd.DataFrame,\n",
    "    output_path: Path,\n",
    "    random_seed: int = 42):\n",
    "\n",
    "    np.random.seed(random_seed)\n",
    "\n",
    "    partition_dict ={} \n",
    "\n",
    "    for category in l_category:\n",
    "        partition_dict[category] = {}\n",
    "        l_mouse_id = df_data_stats.query(\"category==@category\")[\"mouse_id\"].unique()\n",
    "        a_mouse_id = np.array(l_mouse_id)\n",
    "        np.random.shuffle(a_mouse_id)\n",
    "        print(category, \"mouse_id\", a_mouse_id)\n",
    "        # Compute split indices (60%, 20%, 20%)\n",
    "        n_total = len(a_mouse_id)\n",
    "        split1 = int(0.6 * n_total)  # First 60%\n",
    "        split2 = int(0.8 * n_total)  # Next 20%\n",
    "\n",
    "        # Split the data into three groups\n",
    "        partition_dict[category][\"training\"] = a_mouse_id[:split1]  # 60%\n",
    "        partition_dict[category][\"validation\"] = a_mouse_id[split1:split2]  # 20%\n",
    "        partition_dict[category][\"test\"] = a_mouse_id[split2:]  # 20%\n",
    "        \n",
    "    print(partition_dict)\n",
    "\n",
    "    for category in partition_dict.keys():\n",
    "        for partition in partition_dict[category].keys():\n",
    "            value = df_data.query(\"category==@category and mouse_id in @partition_dict[@category][@partition]\")[\"filename\"].count()\n",
    "            print(category,\n",
    "                partition,f\"{value:,}\"\n",
    "                )\n",
    "            \n",
    "    # Create a new column 'fold_name' and initialize with None\n",
    "    df_data['fold_name'] = None\n",
    "    # Assign partition category based on dictionary mapping\n",
    "    for category_key, partitions in partition_dict.items():\n",
    "        for partition_name, mouse_ids in partitions.items():\n",
    "            df_data.loc[(df_data['category'] == category_key) & (df_data['mouse_id'].isin(mouse_ids)), 'fold_name'] = partition_name\n",
    "            \n",
    "    df_filtered = df_data.dropna(subset=['fold_name']).copy()\n",
    "    category_to_label = {category: label for label, category in enumerate(l_category)}\n",
    "    df_filtered['label'] = df_filtered['category'].map(category_to_label)\n",
    "    df_filtered.to_csv(output_path, index=False)"
   ]
  },
  {
   "cell_type": "code",
   "execution_count": 27,
   "metadata": {},
   "outputs": [
    {
     "name": "stdout",
     "output_type": "stream",
     "text": [
      "CON mouse_id [188 156 176 154 195 167 171 168 185]\n",
      "COMB mouse_id [162 130 128 145 172 179 138]\n",
      "{'CON': {'training': array([188, 156, 176, 154, 195]), 'validation': array([167, 171]), 'test': array([168, 185])}, 'COMB': {'training': array([162, 130, 128, 145]), 'validation': array([172]), 'test': array([179, 138])}}\n",
      "CON training 3,578\n",
      "CON validation 1,472\n",
      "CON test 1,950\n",
      "COMB training 3,844\n",
      "COMB validation 747\n",
      "COMB test 2,409\n"
     ]
    }
   ],
   "source": [
    "create_metadata(\n",
    "    l_category=['CON', 'COMB'],\n",
    "    df_data=df_data,\n",
    "    df_data_stats=df_data_stats,\n",
    "    output_path=Path(\"/home/pcallec/analyze_images/results/mouse_data/input_mouse_metadata_CON_COMB.csv\"),\n",
    "    random_seed=42,\n",
    ")"
   ]
  },
  {
   "cell_type": "code",
   "execution_count": 28,
   "metadata": {},
   "outputs": [
    {
     "name": "stdout",
     "output_type": "stream",
     "text": [
      "CON mouse_id [188 156 176 154 195 167 171 168 185]\n",
      "MBZ mouse_id [129 136 186 165 144 157 181 196 169 143]\n",
      "{'CON': {'training': array([188, 156, 176, 154, 195]), 'validation': array([167, 171]), 'test': array([168, 185])}, 'MBZ': {'training': array([129, 136, 186, 165, 144, 157]), 'validation': array([181, 196]), 'test': array([169, 143])}}\n",
      "CON training 3,578\n",
      "CON validation 1,472\n",
      "CON test 1,950\n",
      "MBZ training 3,300\n",
      "MBZ validation 1,800\n",
      "MBZ test 1,900\n"
     ]
    }
   ],
   "source": [
    "create_metadata(\n",
    "    l_category=['CON', 'MBZ'],\n",
    "    df_data=df_data,\n",
    "    df_data_stats=df_data_stats,\n",
    "    output_path=Path(\"/home/pcallec/analyze_images/results/mouse_data/input_mouse_metadata_CON_MBZ.csv\"),\n",
    "    random_seed=42,\n",
    ")"
   ]
  }
 ],
 "metadata": {
  "kernelspec": {
   "display_name": "stats",
   "language": "python",
   "name": "python3"
  },
  "language_info": {
   "codemirror_mode": {
    "name": "ipython",
    "version": 3
   },
   "file_extension": ".py",
   "mimetype": "text/x-python",
   "name": "python",
   "nbconvert_exporter": "python",
   "pygments_lexer": "ipython3",
   "version": "3.10.12"
  }
 },
 "nbformat": 4,
 "nbformat_minor": 2
}
